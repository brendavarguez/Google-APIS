{
 "cells": [
  {
   "cell_type": "markdown",
   "metadata": {},
   "source": [
    "### Here I will explain the whole process to get the google API key."
   ]
  },
  {
   "cell_type": "markdown",
   "metadata": {},
   "source": [
    "1) To get the google API key, you need to open this [link](https://developers.google.com/places/web-service/intro) which will take you to the Google Maps Platform. Once you get there, to your left side you will see a bar with several options. The option you must chose is \"Get API Key\".\n",
    "\n",
    "2) Then, if you go down a little bit, you should see a set f instructions. First, you should enter to the Google Clouud Platform Console. In case you're not able to see the link, here is it: [Google Clouud Platform Console](https://console.cloud.google.com/projectselector/google/maps-apis/overview?supportedpurview=project&project=&folder=&)\n",
    "\n",
    "3) Once you are there, a message like this should be display where you have to accept the service conditions of Google Cloud Platform and the APIs. Moreover, you should choose your country."
   ]
  },
  {
   "cell_type": "markdown",
   "metadata": {},
   "source": [
    "Now, you should be redirected to the Overview window where you can select a project you already have created to get the API, or you can create a new project. First I will explain how to get the API key for a existent project. \n",
    "\n",
    "Above, next to the legend \"Google Cloud Platform\" there is an options to select a project, if you click on that option, a set of projects should be display and you just need to chose one."
   ]
  },
  {
   "cell_type": "markdown",
   "metadata": {},
   "source": [
    "4) After having choose a project, you should get an overview of your project. Now what you need to do is to select the option \"APIs\" on the bar at the left. If you have any enabled APIs a list of all of them will be display and a list of Additional APIs too. Otherwise, just a single list of APIs will be shown."
   ]
  },
  {
   "cell_type": "markdown",
   "metadata": {},
   "source": [
    "5) To work with an API, you have to click on the one you want and it will take you to a new page where you have to press the button \"ENABLE\" to start working with the API selected. Once you have enabled the API key, it will be add to the list of Enabled APIs. \n",
    "\n",
    "6) Next step, click on the API and go to credentials. You should see an alpha numeric string, that is your API. You can click on the icon next to the API to copy the whole API key. Once you hae done this, congratulations!!! you have your API."
   ]
  },
  {
   "cell_type": "markdown",
   "metadata": {},
   "source": [
    "### Now, some important facts.\n",
    "\n",
    "By default, Google let you make just 1 request per day. If you want to have more requests, you must add a billing account, this is, to add a credit or debit card.\n",
    "\n",
    "Before you start crying, you should know that when you add a credit/debit card, Google will give you 300 dollars for you to start using the APIs. If you exceed the amount of requests, then Google will start to make charges to your card, but before start crying again, Google allows you to make around 1000 requests per day. I used the Placces API for a collage assigment and when I finished it, I even did not get to 500 requests, so I think you do not have to worry about the money part. [Here](https://github.com/brendavarguez/Google-APIS/blob/master/brenda_varguez_Google_Maps_API.ipynb) is the link of my project and if you want to see how to use the API Key with Google Library [Here](https://github.com/brendavarguez/Google-APIS/blob/master/Google%20API%20implementation%20with%20Google%20Library.ipynb) is the second part of the project.\n",
    "\n",
    "I will explain how to add a billing acount after. Now I will show how to create a new project and get an API key."
   ]
  },
  {
   "cell_type": "markdown",
   "metadata": {},
   "source": [
    "### Now, I will explain how to get an API key for a new project."
   ]
  },
  {
   "cell_type": "markdown",
   "metadata": {},
   "source": [
    "As I have mention on the step 3, you should click on create in order to open a new project. A new window will be open with the sub legend \"New Project\" with the option of give a name to your project. After namiing it, confirm your project by clicking on the create button. You should automatically be redirected to your new project, but if not, you can enter by selecting on the list of projects as I have shown before.\n",
    "\n",
    "Automatically a list of all the APIs should be display. Choose the one you need and it will take you to a page with the API description, enable the API, go to credentials and click on the item next to the API key to copy the key as I have mention before.\n",
    "\n",
    "As I have explained before, Google just let you to make a single request per day, you need to add a billing account in order to get more requests."
   ]
  },
  {
   "cell_type": "markdown",
   "metadata": {},
   "source": [
    "### How to add a billing account."
   ]
  },
  {
   "cell_type": "markdown",
   "metadata": {},
   "source": [
    "To add a billing account, click on the navigation menu which is in the left superior corner (is like an = but with 3 lines),  where a set of options will be display. Then, click on the Billig option. After that, it will display a message. Press on \"link a billing account\" and the click on \"create billing acount\" and it will take you to another page."
   ]
  },
  {
   "cell_type": "markdown",
   "metadata": {},
   "source": [
    "Now you just have to choose your country and accept the terms of service to continue. Now, you must fill in the customer info, the account type, name, address and the payment method.\n",
    "\n",
    "Once you have done this, Google should aprove it and now you can make as many requests as you want. Google will not make any charges to your card unless you exceed the amount of requests per day, which I think are 1000 per day, but I strongly believe you will not get to the half of that amount. As I told you, I used the API key for a assigment from collage and by the end of my project I did not even get to 500 requests. \n",
    "\n",
    "After Google has aprove your billing account a false charge will be done to yur account, it will look like Google has charge 1 dolar to your account, but is just to make sure the card you just input is a valid card, then that dollar will be returned to you."
   ]
  },
  {
   "cell_type": "markdown",
   "metadata": {},
   "source": [
    "[How to use your API key](https://github.com/brendavarguez/Google-APIS/blob/master/brenda_varguez_Google_Maps_API.ipynb)\n",
    "\n",
    "[How to use your API key with Google Library](https://github.com/brendavarguez/Google-APIS/blob/master/Google%20API%20implementation%20with%20Google%20Library.ipynb)\n",
    "\n",
    "For both projects the Places API was use."
   ]
  },
  {
   "cell_type": "code",
   "execution_count": null,
   "metadata": {},
   "outputs": [],
   "source": []
  }
 ],
 "metadata": {
  "kernelspec": {
   "display_name": "Python 3",
   "language": "python",
   "name": "python3"
  },
  "language_info": {
   "codemirror_mode": {
    "name": "ipython",
    "version": 3
   },
   "file_extension": ".py",
   "mimetype": "text/x-python",
   "name": "python",
   "nbconvert_exporter": "python",
   "pygments_lexer": "ipython3",
   "version": "3.7.3"
  }
 },
 "nbformat": 4,
 "nbformat_minor": 2
}
